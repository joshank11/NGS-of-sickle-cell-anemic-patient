!pip install -q condacolab
import condacolab
condacolab.install()
